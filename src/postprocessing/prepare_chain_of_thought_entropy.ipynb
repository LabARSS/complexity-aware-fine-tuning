{
 "cells": [
  {
   "cell_type": "code",
   "execution_count": null,
   "id": "da825aaa",
   "metadata": {},
   "outputs": [],
   "source": [
    "filename_in = \"../../data/out/cot_entropy/mmlu_qwen_3b.parquet\"\n",
    "filename_out = \"../../data/out/cot_entropy/mmlu_qwen_3b_v2.parquet\"\n",
    "MODEL_NAME = \"Qwen/Qwen2.5-3B-Instruct\""
   ]
  },
  {
   "cell_type": "code",
   "execution_count": null,
   "id": "ad12cb40",
   "metadata": {},
   "outputs": [],
   "source": [
    "import pandas as pd\n",
    "\n",
    "df = pd.read_parquet(filename_in)"
   ]
  },
  {
   "cell_type": "code",
   "execution_count": null,
   "id": "fa4ea263",
   "metadata": {},
   "outputs": [],
   "source": [
    "import json\n",
    "import re\n",
    "\n",
    "import torch\n",
    "from tqdm import tqdm\n",
    "from transformers import AutoModelForCausalLM, AutoTokenizer\n",
    "\n",
    "from reasoning_fine_tune.entropy_estimation.estimate_cot_entropy import get_embeddings\n",
    "from reasoning_fine_tune.utils.correctness import check_answer_correct_mmlu\n",
    "from reasoning_fine_tune.utils.device import DEVICE_MAP\n",
    "\n",
    "tqdm.pandas()\n",
    "\n",
    "\n",
    "def fix_df(model_name, df):\n",
    "    tokenizer = AutoTokenizer.from_pretrained(model_name)\n",
    "    model = AutoModelForCausalLM.from_pretrained(model_name, device_map=DEVICE_MAP, torch_dtype=torch.bfloat16)\n",
    "\n",
    "    model_name = model.config_class().model_type\n",
    "    print(model_name)\n",
    "\n",
    "    field_response = f\"{model_name}_response\"\n",
    "    field_ans_correct = f\"{model_name}_ans_correct\"\n",
    "    field_answer_embeddings = f\"{model_name}_answer_embeddings\"\n",
    "\n",
    "    def fix_row(row):\n",
    "        response = row[field_response]\n",
    "        matched_group = re.search(\"\\\\[\\\\[(.+?)\\\\]\\\\]\", response)\n",
    "\n",
    "        if matched_group is None:\n",
    "            row[field_answer_embeddings] = None\n",
    "            row[field_ans_correct] = False\n",
    "            return row\n",
    "\n",
    "        extracted_answer = matched_group.group(1)\n",
    "        row[field_ans_correct] = check_answer_correct_mmlu(row, extracted_answer)\n",
    "\n",
    "        answer_embeddings = get_embeddings(model, tokenizer, extracted_answer)\n",
    "        if answer_embeddings is not None:\n",
    "            row[field_answer_embeddings] = json.dumps(answer_embeddings)\n",
    "        return row\n",
    "\n",
    "    fixed_df = df.progress_apply(fix_row, axis=1)\n",
    "    print(df.value_counts(field_ans_correct))\n",
    "    print(fixed_df.value_counts(field_ans_correct))\n",
    "    return fixed_df\n"
   ]
  },
  {
   "cell_type": "code",
   "execution_count": null,
   "id": "5bfb0212",
   "metadata": {},
   "outputs": [
    {
     "name": "stderr",
     "output_type": "stream",
     "text": [
      "Sliding Window Attention is enabled but not implemented for `sdpa`; unexpected results may be encountered.\n"
     ]
    },
    {
     "data": {
      "application/vnd.jupyter.widget-view+json": {
       "model_id": "3b6c4aef8925426ab875d57df3d4f331",
       "version_major": 2,
       "version_minor": 0
      },
      "text/plain": [
       "Loading checkpoint shards:   0%|          | 0/2 [00:00<?, ?it/s]"
      ]
     },
     "metadata": {},
     "output_type": "display_data"
    },
    {
     "name": "stdout",
     "output_type": "stream",
     "text": [
      "qwen2\n",
      "qwen2_ans_correct\n",
      "False    7482\n",
      "True     4550\n",
      "Name: count, dtype: int64\n"
     ]
    },
    {
     "name": "stderr",
     "output_type": "stream",
     "text": [
      "  8%|▊         | 1019/12032 [01:32<15:26, 11.88it/s]"
     ]
    }
   ],
   "source": [
    "df_fixed = fix_df(MODEL_NAME, df)\n",
    "df_fixed"
   ]
  },
  {
   "cell_type": "code",
   "execution_count": null,
   "id": "91e518e7",
   "metadata": {},
   "outputs": [],
   "source": [
    "df_fixed.to_parquet(filename_out, compression=\"gzip\")"
   ]
  }
 ],
 "metadata": {
  "kernelspec": {
   "display_name": ".venv",
   "language": "python",
   "name": "python3"
  },
  "language_info": {
   "codemirror_mode": {
    "name": "ipython",
    "version": 3
   },
   "file_extension": ".py",
   "mimetype": "text/x-python",
   "name": "python",
   "nbconvert_exporter": "python",
   "pygments_lexer": "ipython3",
   "version": "3.12.7"
  }
 },
 "nbformat": 4,
 "nbformat_minor": 5
}
